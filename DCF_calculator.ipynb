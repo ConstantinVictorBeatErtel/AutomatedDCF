{
  "nbformat": 4,
  "nbformat_minor": 0,
  "metadata": {
    "colab": {
      "provenance": [],
      "authorship_tag": "ABX9TyNUIBSOtzs/Bz4U2hqJafC7",
      "include_colab_link": true
    },
    "kernelspec": {
      "name": "python3",
      "display_name": "Python 3"
    },
    "language_info": {
      "name": "python"
    }
  },
  "cells": [
    {
      "cell_type": "markdown",
      "metadata": {
        "id": "view-in-github",
        "colab_type": "text"
      },
      "source": [
        "<a href=\"https://colab.research.google.com/github/ConstantinVictorBeatErtel/AutomatedDCF/blob/main/DCF_calculator.ipynb\" target=\"_parent\"><img src=\"https://colab.research.google.com/assets/colab-badge.svg\" alt=\"Open In Colab\"/></a>"
      ]
    },
    {
      "cell_type": "code",
      "execution_count": 1,
      "metadata": {
        "colab": {
          "base_uri": "https://localhost:8080/"
        },
        "id": "NEgtuFY7mQY7",
        "outputId": "2d690a4b-1f2f-452e-c710-4e91d7c6c5b9"
      },
      "outputs": [
        {
          "name": "stdout",
          "output_type": "stream",
          "text": [
            "Requirement already satisfied: certifi in /usr/local/lib/python3.10/dist-packages (2024.6.2)\n",
            "Enter your company ticker ADBE\n"
          ]
        }
      ],
      "source": [
        "\n",
        "\n",
        "import requests\n",
        "import numpy as np\n",
        "import pandas as pd\n",
        "!pip install certifi\n",
        "import certifi\n",
        "\n",
        "symbol= (input(f\"Enter your company ticker \"))\n",
        "\n",
        "# Define the API endpoint and parameters\n",
        "api_url = 'https://www.alphavantage.co/query?function=INCOME_STATEMENT&symbol={}&apikey=P7M6C5PE71GNLCKN'.format(symbol)\n",
        "\n",
        "# Get the income statement data\n",
        "response = requests.get(api_url)\n",
        "income_statement = response.json()\n",
        "\n",
        "api_url_2 = 'https://www.alphavantage.co/query?function=BALANCE_SHEET&symbol={}&apikey=P7M6C5PE71GNLCKN'.format(symbol)\n",
        "\n",
        "# Get the income statement data\n",
        "response_2 = requests.get(api_url_2)\n",
        "balance_sheet = response_2.json()\n",
        "\n"
      ]
    },
    {
      "cell_type": "code",
      "source": [
        "import datetime\n",
        "\n",
        "fye_year_date = datetime.datetime.strptime(income_statement.get('annualReports', [])[0].get('fiscalDateEnding'), '%Y-%m-%d').date()\n",
        "ytd_year_date = datetime.datetime.strptime(income_statement.get('quarterlyReports', [])[0].get('fiscalDateEnding'), '%Y-%m-%d').date()\n",
        "\n",
        "if ytd_year_date < fye_year_date:\n",
        "  revenue = float(income_statement.get('annualReports', [])[0].get('totalRevenue'))\n",
        "  gross_profit = float(income_statement.get('annualReports', [])[0].get('grossProfit'))\n",
        "  operating_expenses = float(income_statement.get('annualReports', [])[0].get('operatingExpenses'))\n",
        "  depreciation_and_amortization = float(income_statement.get('annualReports', [])[0].get('depreciationAndAmortization'))\n",
        "  net_income = float(income_statement.get('annualReports', [])[0].get('netIncome'))\n",
        "  tax = float(income_statement.get('annualReports', [])[0].get('incomeTaxExpense'))\n",
        "  tax_rate = tax/(net_income+tax)\n",
        "  shares_outstanding = float(balance_sheet.get('annualReports', [])[0].get('commonStockSharesOutstanding'))\n",
        "  Assets = float(balance_sheet.get('annualReports', [])[0].get(\"totalAssets\"))\n",
        "  Debt = float(balance_sheet.get('annualReports', [])[0].get(\"totalLiabilities\"))\n",
        "\n",
        "else:\n",
        "  # Calculate trailing twelve months (TTM) values\n",
        "  revenue = float(income_statement.get('quarterlyReports', [])[0].get('totalRevenue', 0)) + \\\n",
        "            float(income_statement.get('quarterlyReports', [])[1].get('totalRevenue', 0)) + \\\n",
        "            float(income_statement.get('quarterlyReports', [])[2].get('totalRevenue', 0)) + \\\n",
        "            float(income_statement.get('quarterlyReports', [])[3].get('totalRevenue', 0))\n",
        "\n",
        "  gross_profit = float(income_statement.get('quarterlyReports', [])[0].get('grossProfit', 0)) + \\\n",
        "                float(income_statement.get('quarterlyReports', [])[1].get('grossProfit', 0)) + \\\n",
        "                float(income_statement.get('quarterlyReports', [])[2].get('grossProfit', 0)) + \\\n",
        "                float(income_statement.get('quarterlyReports', [])[3].get('grossProfit', 0))\n",
        "\n",
        "  operating_expenses = float(income_statement.get('quarterlyReports', [])[0].get('operatingExpenses', 0)) + \\\n",
        "                      float(income_statement.get('quarterlyReports', [])[1].get('operatingExpenses', 0)) + \\\n",
        "                      float(income_statement.get('quarterlyReports', [])[2].get('operatingExpenses', 0)) + \\\n",
        "                      float(income_statement.get('quarterlyReports', [])[3].get('operatingExpenses', 0))\n",
        "\n",
        "  # Note: Depreciation and Amortization might be nested under another key.\n",
        "  # Adjust the key path accordingly.\n",
        "  depreciation_and_amortization = float(income_statement.get('quarterlyReports', [])[0].get('depreciationAndAmortization', 0)) + \\\n",
        "                                  float(income_statement.get('quarterlyReports', [])[1].get('depreciationAndAmortization', 0)) + \\\n",
        "                                  float(income_statement.get('quarterlyReports', [])[2].get('depreciationAndAmortization', 0)) + \\\n",
        "                                  float(income_statement.get('quarterlyReports', [])[3].get('depreciationAndAmortization', 0))\n",
        "\n",
        "  net_income = float(income_statement.get('quarterlyReports', [])[0].get('netIncome', 0)) + \\\n",
        "              float(income_statement.get('quarterlyReports', [])[1].get('netIncome', 0)) + \\\n",
        "              float(income_statement.get('quarterlyReports', [])[2].get('netIncome', 0)) + \\\n",
        "              float(income_statement.get('quarterlyReports', [])[3].get('netIncome', 0))\n",
        "\n",
        "  tax = float(income_statement.get('quarterlyReports', [])[0].get('incomeTaxExpense', 0)) + \\\n",
        "        float(income_statement.get('quarterlyReports', [])[1].get('incomeTaxExpense', 0)) + \\\n",
        "        float(income_statement.get('quarterlyReports', [])[2].get('incomeTaxExpense', 0)) + \\\n",
        "        float(income_statement.get('quarterlyReports', [])[3].get('incomeTaxExpense', 0))\n",
        "\n",
        "  Assets = float(balance_sheet.get('quarterlyReports', [])[0].get(\"totalAssets\"))\n",
        "  Debt = float(balance_sheet.get('quarterlyReports', [])[0].get(\"totalLiabilities\"))\n",
        "\n",
        "  # Calculate tax rate\n",
        "  if net_income != 0:\n",
        "      tax_rate = tax / net_income\n",
        "  else:\n",
        "      tax_rate = 0  # Handle cases where net income is zero\n",
        "\n",
        "  # Shares outstanding might be in the balance sheet or a separate API call.\n",
        "  # Adjust the data source and key accordingly.\n",
        "  shares_outstanding = float(balance_sheet.get('quarterlyReports', [])[0].get('commonStockSharesOutstanding', 0))\n"
      ],
      "metadata": {
        "id": "29DiSRIRnLda"
      },
      "execution_count": 26,
      "outputs": []
    },
    {
      "cell_type": "code",
      "source": [
        "difference = ytd_year_date - fye_year_date\n",
        "\n",
        "# Calculate total difference in months\n",
        "total_months = (difference.days / 30)  # Approximate conversion (30 days per month)\n",
        "\n",
        "# Round to the nearest multiple of 3\n",
        "rounded_months = round(total_months / 3) * 3\n",
        "\n",
        "in_years = rounded_months / 12\n",
        "in_years"
      ],
      "metadata": {
        "colab": {
          "base_uri": "https://localhost:8080/"
        },
        "id": "CauBITXatSB3",
        "outputId": "7e6d537a-657b-4d38-e3b5-a0602862ef51"
      },
      "execution_count": 31,
      "outputs": [
        {
          "output_type": "execute_result",
          "data": {
            "text/plain": [
              "0.5"
            ]
          },
          "metadata": {},
          "execution_count": 31
        }
      ]
    },
    {
      "cell_type": "code",
      "source": [
        "# Calculate the future growth rates\n",
        "future_revenue_growth = float(input(f\"Enter the future revenue growth rate\"))\n",
        "future_gross_margin = float(input(f\"Enter the future gross margin\"))\n",
        "future_opex_margin = float(input(f\"Enter the future opex margin\"))\n",
        "future_d_a_margin = float(input(f\"Enter the future d&a margin\"))\n",
        "future_capex_margin = float(input(f\"Enter the future capex margin\"))\n",
        "future_net_working_capital_change_percentage = float(input(f\"Enter the future net working capital change percentage\"))\n",
        "future_tax_rate = float(input(f\"Enter the future tax rate\"))\n",
        "#Get current share price\n",
        "current_share_price = float(input(f\"Enter the current share price \"))\n",
        "\n",
        "# Calculate the WACC\n",
        "\n",
        "#Calculate cost of equity\n",
        "risk_free_rate = float(input(f\"Enter the 10-zear treasury rate\"))\n",
        "df_ERP = pd.read_excel(\"https://github.com/ConstantinVictorBeatErtel/btflyfi/raw/main/histimpl.xls\", skiprows=6)\n",
        "df_ERP = df_ERP.dropna(subset=[\"Year\"]).iloc[:-1, :].set_index(\"Year\")\n",
        "ERP = df_ERP[\"Implied ERP (FCFE)\"].values[-1]\n",
        "beta = future_tax_rate\n",
        "CostOfEquity = beta*(ERP) + risk_free_rate\n",
        "\n",
        "#calculate cost of debt\n",
        "ytm = float(input(f\"Enter the yield to maturity\"))\n",
        "\n",
        "#Calculate WACC\n",
        "market_cap = float(input(f\"Enter the market cap\"))\n",
        "\n",
        "\n",
        "total = market_cap + Debt\n",
        "AfterTaxCostOfDebt = ytm * (1-tax_rate)\n",
        "wacc = (AfterTaxCostOfDebt*Debt/total) + (CostOfEquity*market_cap/total)\n",
        "\n",
        "# Build the discounted cash flow model\n",
        "discount_rate = wacc\n",
        "terminal_growth_rate = float(input(f\"Enter the terminal growth rate\"))\n",
        "periods = int(input(f\"Enter the number of periods\"))"
      ],
      "metadata": {
        "colab": {
          "base_uri": "https://localhost:8080/"
        },
        "id": "b5bN1ADpOLb7",
        "outputId": "fdd358f1-cb44-4395-bba7-c27cec7c5f78"
      },
      "execution_count": 44,
      "outputs": [
        {
          "name": "stdout",
          "output_type": "stream",
          "text": [
            "Enter the future revenue growth rate0.11\n",
            "Enter the future gross margin0.895\n",
            "Enter the future opex margin0.43\n",
            "Enter the future d&a margin0.04\n",
            "Enter the future capex margin0.01\n",
            "Enter the future net working capital change percentage0.1\n",
            "Enter the future tax rate0.15\n",
            "Enter the 10-zear treasury rate0.0437\n",
            "Enter the future tax rate0.15\n",
            "Enter the yield to maturity0.05\n",
            "Enter the market cap256950000000\n",
            "Enter the terminal growth rate0.02\n",
            "Enter the number of periods5\n"
          ]
        }
      ]
    },
    {
      "cell_type": "code",
      "source": [
        "# Initialize lists to store data for Excel\n",
        "years = []\n",
        "revenues = []\n",
        "gross_profits = []\n",
        "operating_expenses = []\n",
        "d_and_a = []\n",
        "ebit = []\n",
        "taxes = []\n",
        "net_incomes = []\n",
        "capex = []\n",
        "cash_flows = []\n",
        "discount_factors = []\n",
        "present_values = []\n",
        "\n",
        "# Calculate the present value of future cash flows and store data for each year\n",
        "present_value = 0\n",
        "for i in range(periods):\n",
        "  year = i + 1\n",
        "\n",
        "  #discount_factor = 1 / (1 + discount_rate) ** (year - in_years)\n",
        "\n",
        "  #present_value_year = cash_flow * discount_factor\n",
        "  #present_values.append(present_value_year)\n",
        "\n",
        "  revenue_projected = revenue * (1 + future_revenue_growth)**i\n",
        "  gross_profit_projected = revenue_projected * future_gross_margin\n",
        "  operating_expense_projected = revenue_projected * future_opex_margin\n",
        "  d_and_a_expense_projected = revenue_projected * future_d_a_margin\n",
        "  ebit_projected = gross_profit_projected - operating_expense_projected\n",
        "  tax_projected = ebit_projected * future_tax_rate\n",
        "  net_income_projected = ebit_projected - tax_projected\n",
        "  capex_expense_projected = revenue_projected * future_capex_margin\n",
        "  future_net_working_capital_change = net_income_projected * future_net_working_capital_change_percentage\n",
        "  cash_flow = net_income_projected - capex_expense_projected + d_and_a_expense_projected - future_net_working_capital_change\n",
        "  discount_factor = 1 / (1 + discount_rate)**year\n",
        "  present_value_year = cash_flow * discount_factor\n",
        "  present_value += present_value_year\n",
        "\n",
        "  # Append data to lists\n",
        "  years.append(year)\n",
        "  revenues.append(revenue_projected)\n",
        "  gross_profits.append(gross_profit_projected)\n",
        "  operating_expenses.append(operating_expense_projected)\n",
        "  d_and_a.append(d_and_a_expense_projected)\n",
        "  ebit.append(ebit_projected)\n",
        "  taxes.append(tax_projected)\n",
        "  net_incomes.append(net_income_projected)\n",
        "  capex.append(capex_expense_projected)\n",
        "  cash_flows.append(cash_flow)\n",
        "  discount_factors.append(discount_factor)\n",
        "  present_values.append(present_value_year)\n",
        "\n",
        "# Calculate the terminal value\n",
        "terminal_value = cash_flows[-1] * (1 + terminal_growth_rate) / (discount_rate - terminal_growth_rate)\n",
        "present_value += terminal_value / (1 + discount_rate)**periods\n",
        "\n",
        "# Calculate the enterprise value\n",
        "enterprise_value = present_value/shares_outstanding\n",
        "\n",
        "\n",
        "\n",
        "#Calculate the upside\n",
        "upside = (enterprise_value/current_share_price - 1) * 100\n",
        "\n",
        "# Create a Pandas DataFrame from the calculated data\n",
        "\n",
        "data = {\n",
        "    'Revenue': revenues,\n",
        "    'Gross Profit': gross_profits,\n",
        "    'Operating Expenses': operating_expenses,\n",
        "    'D&A': d_and_a,\n",
        "    'EBIT': ebit,\n",
        "    'Taxes': taxes,\n",
        "    'Net Income': net_incomes,\n",
        "    'Capex': capex,\n",
        "    'Cash Flow': cash_flows,\n",
        "    'Discount Factor': discount_factors,\n",
        "    'Present Value': present_values\n",
        "}\n",
        "\n",
        "df = pd.DataFrame(data, index=years).transpose()\n",
        "\n",
        "num_columns = len(df.columns)\n",
        "\n",
        "# Add Terminal Value row\n",
        "df.loc['Terminal Value'] = [''] * (num_columns - 1) + [terminal_value / (1 + discount_rate)**periods]\n",
        "\n",
        "# Add Enterprise Value row\n",
        "df.loc['Enterprise Value'] = [''] * (num_columns - 1) + [enterprise_value]\n",
        "\n",
        "# Add Upside row\n",
        "df.loc['Upside'] = [''] * (num_columns - 1) + [upside]\n",
        "\n",
        "# Reset the index to make column labels the first row\n",
        "df = df.reset_index()\n",
        "\n",
        "# Export the DataFrame to an Excel file\n",
        "df.to_excel(\"dcf_calculations.xlsx\", index=False)\n",
        "\n"
      ],
      "metadata": {
        "id": "rIIXTlLx1cLJ"
      },
      "execution_count": 69,
      "outputs": []
    },
    {
      "cell_type": "code",
      "source": [],
      "metadata": {
        "id": "_rGHXVmO68lx"
      },
      "execution_count": null,
      "outputs": []
    },
    {
      "cell_type": "code",
      "source": [],
      "metadata": {
        "id": "8hvC_-rv3wlw"
      },
      "execution_count": null,
      "outputs": []
    }
  ]
}